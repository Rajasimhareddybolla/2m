{
 "cells": [
  {
   "cell_type": "markdown",
   "metadata": {},
   "source": [
    "<div style=\"text-align: center; margin-top: 50px; margin-bottom: 30px;\">\n",
    "  <!-- Title -->\n",
    "  <h1 style=\"color: #00bfae; font-size: 48px; font-weight: bold; letter-spacing: 2px; text-transform: uppercase;\">\n",
    "    AI Meets Teacher\n",
    "  </h1>\n",
    "  \n",
    "  <!-- Subtitle -->\n",
    "  <h2 style=\"color: #f56b2a; font-size: 24px; font-weight: lighter; letter-spacing: 1px;\">\n",
    "    Revolutionizing Education with Personalized AI Mentorship for Students\n",
    "  </h2>\n",
    "</div>\n",
    "\n"
   ]
  },
  {
   "cell_type": "markdown",
   "metadata": {},
   "source": [
    "<div style=\"font-family: Arial, sans-serif; background-color: #f4f4f9; padding: 30px; border-radius: 8px; border: 1px solid #e0e0e0; max-width: 96%; margin: auto; box-shadow: 0 4px 8px rgba(0, 0, 0, 0.1);max-width:90%\">\n",
    "    <h2 style=\"color: #333; text-align: center; font-size: 28px; margin-bottom: 20px;\">Aims and Purposes</h2>\n",
    "    <p style=\"font-size: 18px; color: #555; text-align: justify; line-height: 1.6;\">\n",
    "        In today’s educational landscape, personalized learning is vital for student engagement and success. Traditional teaching methods often fail to address individual needs, leaving students with a generic learning experience.\n",
    "    </p>\n",
    "    <p style=\"font-size: 18px; color: #555; text-align: justify; line-height: 1.6; margin-top: 20px;\">\n",
    "        We aim to utilize AI, specifically the Gemini model, to create a <strong style=\"color: #3498db;\">Personalized Tutoring System</strong> that caters to the unique strengths, interests, and challenges of each student. By analyzing academic performance, extra-curricular activities, and personal feedback, our system seeks to generate customized assignments and learning pathways that connect subjects to real-world applications.\n",
    "    </p>\n",
    "    <p style=\"font-size: 18px; color: #555; text-align: justify; line-height: 1.6; margin-top: 20px;\">\n",
    "        Our goal is to investigate how effectively Gemini can analyze student data to deliver tailored educational experiences, thereby enhancing motivation and learning outcomes. This project represents an initial exploration into harnessing AI for creating a dynamic, responsive educational environment that empowers students to thrive.\n",
    "    </p>\n",
    "</div>"
   ]
  },
  {
   "cell_type": "markdown",
   "metadata": {},
   "source": [
    "\n",
    "  <h3 style=\"color: #9b59b6; font-size: 24px; font-weight: 400; margin-top: 30px; letter-spacing: 1px;\">\n",
    "    Gemini AI-Powered Features: Unlocking Endless Possibilities\n",
    "  </h3>\n",
    "\n",
    "\n",
    "\n",
    "<div style=\"background-color: #1E1E1E; padding: 30px; border-radius: 15px; margin: 40px 0; border: 2px solid #00B8D9; margin-left: auto; margin-right: 30px; width: 100%; max-width: 94%;\">\n",
    "    <h2 style=\"color: #FFFFFF; text-align: center; font-size: 28px; margin-bottom: 30px;\">🚀 Gemini AI-Powered Features</h2>\n",
    "    <div style=\"display: grid; grid-template-columns: repeat(2, 1fr); gap: 20px;\">\n",
    "        <div style=\"background-color: #1F3A64; color: #FFFFFF; padding: 20px; border-radius: 10px; box-shadow: 0 4px 6px rgba(0, 0, 0, 0.2);\">\n",
    "            <h3 style=\"text-align: center;\">📊 Classroom Analytics</h3>\n",
    "            <p>AI analyzes classroom performance, identifying subjects where students struggle.</p>\n",
    "        </div>\n",
    "        <div style=\"background-color: #336B87; color: #FFFFFF; padding: 20px;padding-right:0px; border-radius: 10px ;box-shadow: 0 4px 6px rgba(0, 0, 0, 0.2);\">\n",
    "            <h3 style=\"text-align: center;\">🌍 Fine-Tuned AI Models</h3>\n",
    "            <p>Custom AI models for regional languages and cultural content ensure inclusivity.</p>\n",
    "        </div>\n",
    "    </div>\n",
    "    <div style=\"display: grid; grid-template-columns: repeat(2, 1fr); gap: 20px; margin-top: 20px;\">\n",
    "        <div style=\"background-color: #4C7C9C; color: #FFFFFF; padding: 20px; border-radius: 10px; box-shadow: 0 4px 6px rgba(0, 0, 0, 0.2);\">\n",
    "            <h3 style=\"text-align: center;\">👨‍👩‍👧‍👦 Parental Involvement</h3>\n",
    "            <p>Parents receive updates on their child’s performance with actionable recommendations.</p>\n",
    "        </div>\n",
    "        <div style=\"background-color: #598C97; color: #FFFFFF; padding: 20px;padding-right:0px;  border-radius: 10px; box-shadow: 0 4px 6px rgba(0, 0, 0, 0.2);\">\n",
    "            <h3 style=\"text-align: center;\">📚 Teacher Support</h3>\n",
    "            <p>AI automates repetitive tasks like grading and scheduling, reducing teachers' workload.</p>\n",
    "        </div>\n",
    "    </div>\n",
    "    <div style=\"display: grid; grid-template-columns: repeat(2, 1fr); gap: 20px; margin-top: 20px;\">\n",
    "        <div style=\"background-color: #407F91; color: #FFFFFF; padding: 20px; border-radius: 10px; box-shadow: 0 4px 6px rgba(0, 0, 0, 0.2);\">\n",
    "            <h3 style=\"text-align: center;\">👩‍🏫 One-on-One Mentorship</h3>\n",
    "            <p>AI provides personalized tutoring with tailored guidance for each student.</p>\n",
    "        </div>\n",
    "        <div style=\"background-color: #4C96A1; color: #FFFFFF; padding: 20px;padding-right:0px;  border-radius: 10px; box-shadow: 0 4px 6px rgba(0, 0, 0, 0.2);\">\n",
    "            <h3 style=\"text-align: center;\">🎮 Gamification</h3>\n",
    "            <p>AI integrates interactive games, quizzes, and rewards to make learning engaging.</p>\n",
    "        </div>\n",
    "    </div>\n",
    "    <div style=\"display: grid; grid-template-columns: repeat(2, 1fr); gap: 20px; margin-top: 20px;\">\n",
    "        <div style=\"background-color: #5A9BA6; color: #FFFFFF; padding: 20px; border-radius: 10px; box-shadow: 0 4px 6px rgba(0, 0, 0, 0.2);\">\n",
    "            <h3 style=\"text-align: center;\">📅 Long-Context Analysis</h3>\n",
    "            <p>AI analyzes months of student performance data to track trends and improve learning.</p>\n",
    "        </div>\n",
    "        <div style=\"background-color: #6BB6B2; color: #FFFFFF; padding: 20px;padding-right:0px;  border-radius: 10px; box-shadow: 0 4px 6px rgba(0, 0, 0, 0.2);\">\n",
    "            <h3 style=\"text-align: center;\">⚡ Context-Caching</h3>\n",
    "            <p>By storing frequently accessed data, AI reduces computation time and enhances efficiency.</p>\n",
    "        </div>\n",
    "    </div>\n",
    "    <div style=\"display: grid; grid-template-columns: repeat(2, 1fr); gap: 20px; margin-top: 20px;\">\n",
    "        <div style=\"background-color: #7BB3B6; color: #FFFFFF; padding: 20px; border-radius: 10px; box-shadow: 0 4px 6px rgba(0, 0, 0, 0.2);\">\n",
    "            <h3 style=\"text-align: center;\">🌎 Cultural and Regional Awareness</h3>\n",
    "            <p>AI-driven lessons promote understanding of heritage and culture, fostering inclusivity.</p>\n",
    "        </div>\n",
    "        <div style=\"background-color: #85C0C2; color: #FFFFFF; padding: 20px;padding-right:0px;  border-radius: 10px; box-shadow: 0 4px 6px rgba(0, 0, 0, 0.2);\">\n",
    "            <h3 style=\"text-align: center;\">📝 Automated Grading</h3>\n",
    "            <p>AI automates grading, saving time for teachers and enabling personalized support.</p>\n",
    "        </div>\n",
    "    </div>\n",
    "    <div style=\"display: grid; grid-template-columns: repeat(2, 1fr); gap: 20px; margin-top: 20px;\">\n",
    "        <div style=\"background-color: #4A99B6; color: #FFFFFF; padding: 20px;padding-right:4px;  border-radius: 10px; box-shadow: 0 4px 6px rgba(0, 0, 0, 0.2);\">\n",
    "            <h3 style=\"text-align: center;\">📊 Reporting and Analytics</h3>\n",
    "            <p>AI generates performance reports, helping educators track student progress effectively.</p>\n",
    "        </div>\n",
    "    </div>\n",
    "</div>"
   ]
  },
  {
   "cell_type": "markdown",
   "metadata": {},
   "source": []
  },
  {
   "cell_type": "code",
   "execution_count": 1,
   "metadata": {},
   "outputs": [
    {
     "data": {
      "text/html": [
       "<video controls  width=\"640\"  height=\"480\">\n",
       " <source src=\"data:None;base64,/kaggle/input/spiderman-mask/spiderman mask 1/s (108).mp4\" type=\"None\">\n",
       " Your browser does not support the video tag.\n",
       " </video>"
      ],
      "text/plain": [
       "<IPython.core.display.Video object>"
      ]
     },
     "execution_count": 1,
     "metadata": {},
     "output_type": "execute_result"
    }
   ],
   "source": [
    "from IPython.display import Video\n",
    "spider_video = '/kaggle/input/spiderman-mask/spiderman mask 1/s (108).mp4'\n",
    "Video(spider_video, embed=True, width=640, height=480)"
   ]
  },
  {
   "cell_type": "code",
   "execution_count": 2,
   "metadata": {},
   "outputs": [],
   "source": [
    "import os\n",
    "import time\n",
    "import google.generativeai as genai\n",
    "import dotenv\n",
    "import pandas as pd"
   ]
  },
  {
   "cell_type": "code",
   "execution_count": 3,
   "metadata": {},
   "outputs": [],
   "source": [
    "# from kaggle_secrets import UserSecretsClient\n",
    "# user_secrets = UserSecretsClient()\n",
    "# GEMINI_API_KEY = user_secrets.get_secret(\"GEMINI_API_KEY\")\n",
    "# genai.configure(api_key=GEMINI_API_KEY)\n",
    "import os\n",
    "genai.configure(api_key=os.getenv('GEMINI_API_KEY'))"
   ]
  },
  {
   "cell_type": "code",
   "execution_count": 4,
   "metadata": {},
   "outputs": [],
   "source": [
    "def upload_to_gemini(path, mime_type=None):\n",
    "  \"\"\"Uploads the given file to Gemini.\n",
    "\n",
    "  See https://ai.google.dev/gemini-api/docs/prompting_with_media\n",
    "  \"\"\"\n",
    "  file = genai.upload_file(path, mime_type=mime_type)\n",
    "  print(f\"Uploaded file '{file.display_name}' as: {file.uri}\")\n",
    "  return file\n",
    "\n",
    "def wait_for_files_active(files):\n",
    "  \"\"\"Waits for the given files to be active.\n",
    "\n",
    "  Some files uploaded to the Gemini API need to be processed before they can be\n",
    "  used as prompt inputs. The status can be seen by querying the file's \"state\"\n",
    "  field.\n",
    "\n",
    "  This implementation uses a simple blocking polling loop. Production code\n",
    "  should probably employ a more sophisticated approach.\n",
    "  \"\"\"\n",
    "  print(\"Waiting for file processing...\")\n",
    "  for name in (file.name for file in files):\n",
    "    file = genai.get_file(name)\n",
    "    while file.state.name == \"PROCESSING\":\n",
    "      print(\".\", end=\"\", flush=True)\n",
    "      time.sleep(10)\n",
    "      file = genai.get_file(name)\n",
    "    if file.state.name != \"ACTIVE\":\n",
    "      raise Exception(f\"File {file.name} failed to process\")\n",
    "  print(\"...all files ready\")\n",
    "  print()"
   ]
  },
  {
   "cell_type": "markdown",
   "metadata": {},
   "source": [
    "<div style=\"background-color: #1E1E1E; padding: 30px; border-radius: 15px; margin: 40px 0;  margin-left: auto; margin-right: 30px; width: 100%; max-width: 94%;\">\n",
    "<div style=\"text-align: center; margin: 20px 0;\">\n",
    "  <h2 style=\"color: #2C6BC2;\">Why Long-Context Windows Matter 🌟</h2>\n",
    "</div>\n",
    "<div style=\"padding: 15px;padding-right: 5px ;background-color: #F0F8FF; border-radius: 10px; margin-bottom: 20px;\">\n",
    "  <p style=\"font-size: 16px; color: #333333;\">Long-context windows are a powerful tool in AI. They allow us to process large volumes of data over extended periods, helping to detect trends, patterns, and deeper insights that may not be immediately obvious from short-term data. By applying this approach to <strong>Gemini's AI-driven features</strong>, we unlock a range of capabilities that are tailored to <strong>student growth</strong>, <strong>teacher support</strong>, and <strong>classroom improvement</strong>.</p>\n",
    "  <p style=\"font-size: 16px; color: #333333;\">For example, <strong>long-context analysis</strong> enables us to identify <strong>academic trends</strong> over the course of months, which helps in identifying subjects where students struggle, tailoring content to their learning pace, and improving outcomes.</p>\n",
    "  <p style=\"font-size: 16px; color: #333333;\">With this capability, we can ensure that <strong>learning paths</strong> evolve with the student’s progress, <strong>classroom analytics</strong> remain responsive to real-time data, and <strong>behavioral insights</strong> lead to actionable interventions.</p>\n",
    "</div>\n",
    "</div>"
   ]
  },
  {
   "cell_type": "code",
   "execution_count": 5,
   "metadata": {},
   "outputs": [],
   "source": [
    "csv_files = [os.path.join(  'backend/school_data_csv' ,file   ) for file in os.listdir(\"backend/school_data_csv/\") if file.endswith(\".csv\")]\n",
    "text_books = [os.path.join(  'backend/text_books' ,file   ) for file in os.listdir(\"backend/text_books/\") if file.endswith(\".pdf\")]"
   ]
  },
  {
   "cell_type": "code",
   "execution_count": 6,
   "metadata": {},
   "outputs": [
    {
     "name": "stdout",
     "output_type": "stream",
     "text": [
      "Uploaded file 'Subjects.csv' as: https://generativelanguage.googleapis.com/v1beta/files/ywds6duoesd1\n",
      "Uploaded file 'Curriculum_Table.csv' as: https://generativelanguage.googleapis.com/v1beta/files/gl6moi1buzsw\n",
      "Uploaded file 'StudentExposureHistory.csv' as: https://generativelanguage.googleapis.com/v1beta/files/1b3g3gsw4f9\n",
      "Uploaded file 'student_scores.csv' as: https://generativelanguage.googleapis.com/v1beta/files/gesbweqwf6sg\n",
      "Uploaded file 'student_remarks.csv' as: https://generativelanguage.googleapis.com/v1beta/files/qffqqb1v1jbx\n",
      "Uploaded file 'CalendarEvents.csv' as: https://generativelanguage.googleapis.com/v1beta/files/sxgogus7j3mx\n",
      "Uploaded file 'attendance_records.csv' as: https://generativelanguage.googleapis.com/v1beta/files/w6gfcgadlbh0\n",
      "Uploaded file 'School_Info_Table.csv' as: https://generativelanguage.googleapis.com/v1beta/files/dx42patxt32i\n",
      "Uploaded file 'StudentProgress.csv' as: https://generativelanguage.googleapis.com/v1beta/files/wzxejehssy7v\n",
      "Uploaded file 'activities.csv' as: https://generativelanguage.googleapis.com/v1beta/files/p101mf0bid4\n",
      "Uploaded file 'Family.csv' as: https://generativelanguage.googleapis.com/v1beta/files/a9y40kvki24d\n",
      "Uploaded file 'Assignments.csv' as: https://generativelanguage.googleapis.com/v1beta/files/jgt0hdhizcms\n",
      "Uploaded file 'SuggestedActivities.csv' as: https://generativelanguage.googleapis.com/v1beta/files/miwtu2yovtbv\n",
      "Uploaded file 'ExtraCurricularActivities.csv' as: https://generativelanguage.googleapis.com/v1beta/files/awv3qlx7il8j\n",
      "Uploaded file 'Class.csv' as: https://generativelanguage.googleapis.com/v1beta/files/tlc8463uxwmx\n",
      "Uploaded file 'Teachers.csv' as: https://generativelanguage.googleapis.com/v1beta/files/urdf8itn3sfu\n",
      "Uploaded file 'TeacherReminders.csv' as: https://generativelanguage.googleapis.com/v1beta/files/fhsjt51nufzt\n",
      "Uploaded file 'Students.csv' as: https://generativelanguage.googleapis.com/v1beta/files/o4cavz54x5ph\n",
      "Uploaded file 'class-5-_-telugu-_-all-inner-pages_compressed.pdf' as: https://generativelanguage.googleapis.com/v1beta/files/4ma72s83k0kt\n",
      "Uploaded file 'class-5-_-evs-_-all-inner-pages_compressed.pdf' as: https://generativelanguage.googleapis.com/v1beta/files/vs4ha3wyoyyj\n",
      "Uploaded file 'class-5-_-english-_-all-inner-pages_compressed.pdf' as: https://generativelanguage.googleapis.com/v1beta/files/9720sv00qjb6\n",
      "Uploaded file 'class-5-_-maths-_-all-inner-pages_compressed.pdf' as: https://generativelanguage.googleapis.com/v1beta/files/6t0be5s9re0p\n",
      "Waiting for file processing...\n",
      "...all files ready\n",
      "\n"
     ]
    }
   ],
   "source": [
    "mime_type = \"text/plain\"\n",
    "files = [\n",
    "  upload_to_gemini(file, mime_type=mime_type) for file in csv_files\n",
    "] + [  upload_to_gemini(file, mime_type=\"application/pdf\") for file in text_books ]\n",
    "wait_for_files_active(files)"
   ]
  },
  {
   "cell_type": "markdown",
   "metadata": {},
   "source": [
    "<div style=\"background-color: #1E1E1E; padding: 30px; border-radius: 15px; margin: 40px 0; border: 2px solid #00B8D9; margin-left: auto; margin-right: 30px; width: 100%; max-width: 90%;\">\n",
    "<h2 style=\"color: #00bfae; text-align: center;\">Dataset Overview and Streamlit Preview</h2>\n",
    "\n",
    "<p style=\"color: #d1d5db; text-align: center;\">\n",
    "  To provide a deeper understanding of the dataset and its structure, below is the Entity Relationship (ER) Diagram representing the relationships between different data entities.\n",
    "</p>\n",
    "\n",
    "<!-- Side-by-Side Layout using HTML -->\n",
    "<div style=\"display: flex; justify-content: space-between; margin-top: 20px; gap: 20px;\">\n",
    "\n",
    "  <!-- ER Diagram Section -->\n",
    "  <div style=\"flex: 1; text-align: center; padding: 10px; border: 1px solid #e1e1e1; border-radius: 8px; background-color: #1f1f1f; box-shadow: 0 4px 6px rgba(0, 0, 0, 0.1);\">\n",
    "    <img src=\"image1.png\" alt=\"ER Diagram\" style=\"width: 80%; height: auto; border-radius: 8px; border: 1px solid #333; box-shadow: 0 4px 8px rgba(0, 0, 0, 0.2);\">\n",
    "    <p style=\"color: #f56b2a; font-weight: bold;\">Entity Relationship (ER) Diagram</p>\n",
    "    <p style=\"color: #d1d5db;\">This ER Diagram visualizes the dataset structure, including key entities such as students, performance records, feedback, and more.</p>\n",
    "  </div>\n",
    "\n",
    "  <!-- Streamlit Preview Section -->\n",
    "  <div style=\"flex: 1; text-align: center;align-content:center ;padding: 10px; border: 1px solid #e1e1e1; border-radius: 8px; background-color: #1f1f1f; box-shadow: 0 4px 6px rgba(0, 0, 0, 0.1);\">\n",
    "    <h3 style=\"color: #ff79c6;\">Explore the Dataset with Streamlit</h3>\n",
    "    <p style=\"color: #d1d5db;\">You can explore the dataset and interact with it directly through our Streamlit app. The app showcases live functionality and allows you to view data dynamically.</p>\n",
    "    <div style=\"margin-top: 20px;\">\n",
    "        <img src=\"image.png\" alt=\"ER Diagram\" style=\"width: 55%; height: 50%; border-radius: 8px; border: 1px solid #333; box-shadow: 0 4px 8px rgba(0, 0, 0, 0.2);\">\n",
    "        <br>\n",
    "      <a href=\"https://project-2m.streamlit.app\" target=\"_blank\" style=\"background-color: #00bfae; color: #ffffff; padding: 10px 20px; font-size: 16px; border-radius: 5px; text-decoration: none; box-shadow: 0 4px 6px rgba(0, 0, 0, 0.1);\">\n",
    "        <strong>Preview the Dataset</strong>\n",
    "      </a>\n",
    "    </div>\n",
    "  </div>\n",
    "\n",
    "</div>\n",
    "\n",
    "</div>"
   ]
  },
  {
   "cell_type": "code",
   "execution_count": 11,
   "metadata": {},
   "outputs": [],
   "source": [
    "\n",
    "from IPython.display import display, Markdown, HTML\n",
    "import json\n",
    "\n",
    "def dis(response):\n",
    "    # Displaying the main text response from Gemini\n",
    "    if response.text:\n",
    "        formatted_response = f\"### Response from Gemini Chatbot:\\n\\n{response.text}\"\n",
    "        display(Markdown(formatted_response))\n",
    "    else:\n",
    "        display(Markdown(\"**No text response from Gemini Chatbot.**\"))\n",
    "\n",
    "    # Displaying the usage metadata (e.g., token count, API usage)\n",
    "    if response.usage_metadata:\n",
    "        usage_data = response.usage_metadata  # Pretty print the metadata\n",
    "        usage_section = f\"### Usage Metadata:\\n\\n```\\n{usage_data}\\n```\"\n",
    "        display(Markdown(usage_section))\n",
    "    else:\n",
    "        display(Markdown(\"**No usage metadata available.**\"))\n",
    "\n",
    "    # Optional: Add additional visual enhancements like emojis for engagement\n",
    "    display(Markdown(\"\\n*Powered by AI for better education! 🌟📚*\"))\n",
    "\n",
    "with open('system_prompt.txt', 'r') as file:\n",
    "    system_prompt = file.read()\n"
   ]
  },
  {
   "cell_type": "code",
   "execution_count": 8,
   "metadata": {},
   "outputs": [],
   "source": [
    "generation_config = {\n",
    "  \"temperature\": 1,\n",
    "  \"top_p\": 0.95,\n",
    "  \"top_k\": 40,\n",
    "  \"max_output_tokens\": 8192,\n",
    "  \"response_mime_type\": \"text/plain\",\n",
    "}\n",
    "\n",
    "model = genai.GenerativeModel(\n",
    "  model_name=\"gemini-1.5-pro\",\n",
    "  generation_config=generation_config,\n",
    "  system_instruction = system_prompt\n",
    ")\n",
    "# model_flash = genai.GenerativeModel(\n",
    "#   model_name=\"gemini-1.5-flash\",\n",
    "#   generation_config=generation_config,\n",
    "#   system_instruction=system_prompt,\n",
    "# )\n",
    "\n",
    "chat = model.start_chat(\n",
    "    \n",
    "    history=[\n",
    "        {\n",
    "        \"role\": \"user\",\n",
    "        \"parts\": [\n",
    "            file for file in files\n",
    "        ],\n",
    "        }\n",
    "    ]\n",
    "    )"
   ]
  },
  {
   "cell_type": "markdown",
   "metadata": {},
   "source": [
    "<div style=\"background-color: #34495E; padding: 20px; border-radius: 10px; margin: 20px 0; border: 2px solid #2C3E50; max-width: 95%; margin-left: auto; margin-right: auto;\">\n",
    "    <h3 style=\"color: #ECF0F1; text-align: center;\">📚 Personalized Learning Paths</h3>\n",
    "    <p style=\"color: #BDC3C7; font-size: 16px;\">Every student learns differently. By analyzing performance data, AI can create unique learning paths for each student. These paths focus on their strengths and help improve weaker areas, ensuring personalized attention in large classrooms.</p>\n",
    "</div>\n",
    "\n"
   ]
  },
  {
   "cell_type": "code",
   "execution_count": null,
   "metadata": {},
   "outputs": [],
   "source": [
    "from cachetools import TTLCache, cached\n",
    "\n",
    "# Step 1: Define a TTL cache with a max size of 50 entries and a TTL of 3600 seconds (1 hour)\n",
    "p_cache = TTLCache(maxsize=50, ttl=3600)\n",
    "\n",
    "# Step 2: Wrap the chat.send_message() function with caching\n",
    "@cached(p_cache)\n",
    "def get_personalized_learning_path(student_id, prompt):\n",
    "    \"\"\"\n",
    "    Generate a personalized learning path for a student using a prompt and caching the result.\n",
    "    \"\"\"\n",
    "    # Check if the result is already cached\n",
    "    if (student_id, prompt) in p_cache:\n",
    "        print(f\"Cache hit for Student {student_id}\")\n",
    "    else:\n",
    "        print(f\"Cache miss for Student {student_id}\")\n",
    "            \n",
    "    print(f\"Generating learning path for Student {student_id}...\")\n",
    "    # Simulate calling the chatbot with the provided prompt\n",
    "    learning_path = chat.send_message(prompt)\n",
    "    return learning_path\n"
   ]
  },
  {
   "cell_type": "code",
   "execution_count": null,
   "metadata": {},
   "outputs": [],
   "source": []
  },
  {
   "cell_type": "markdown",
   "metadata": {},
   "source": [
    "<div style=\"font-family: Arial, sans-serif; background-color: #f4f4f9; padding: 20px; border-radius: 8px; border: 1px solid #e0e0e0; max-width: 90%; margin: auto; box-shadow: 0 4px 8px rgba(0, 0, 0, 0.1);\">\n",
    "    <h2 style=\"color: #333; text-align: center; font-size: 24px; margin-bottom: 15px;\">Context Caching Demonstration</h2>\n",
    "    <p style=\"font-size: 16px; color: #555; text-align: justify; line-height: 1.5; margin-bottom: 15px;\">\n",
    "        Context caching significantly enhances performance in applications requiring personalized data, such as student mentoring systems. By caching results for a 60-minute buffer, requests are served instantly, minimizing redundant computations.\n",
    "    </p>\n",
    "    <h3 style=\"color: #555; font-size: 20px; margin-top: 15px;\">Results:</h3>\n",
    "    <div style=\"background-color: #ffffff; border-radius: 8px; padding: 15px; border: 1px solid #e0e0e0; max-width: 80%; margin: auto; box-shadow: 0 2px 6px rgba(0, 0, 0, 0.1);\">\n",
    "        <p style=\"font-size: 16px; color: #333;\">First Call Duration: <strong style=\"color: #e74c3c;\">More than one minute</strong></p>\n",
    "        <p style=\"font-size: 16px; color: #333;\">Second Call Duration (with caching): <strong style=\"color: #2ecc71;\">Less than a second</strong></p>\n",
    "    </div>\n",
    "    <h3 style=\"color: #555; font-size: 20px; margin-top: 15px;\">Why is Context Caching Crucial?</h3>\n",
    "    <p style=\"font-size: 16px; color: #555; text-align: justify; line-height: 1.5; margin-top: 10px;\">\n",
    "        Context caching improves speed and optimizes resource usage, offering several key benefits:\n",
    "    </p>\n",
    "    <ul style=\"font-size: 16px; color: #333; line-height: 1.6; margin-top: 10px; padding-left: 15px;\">\n",
    "        <li><strong style=\"color: #3498db;\">Improved Response Times:</strong> The second call was nearly instant because the context was cached.</li>\n",
    "        <li><strong style=\"color: #3498db;\">Resource Efficiency:</strong> By avoiding recomputation, the system uses less computational power, important for scalability.</li>\n",
    "        <li><strong style=\"color: #3498db;\">Consistency & Personalization:</strong> Caching ensures a stable, personalized experience for learners.</li>\n",
    "        <li><strong style=\"color: #3498db;\">Better User Experience:</strong> Instant responses minimize delays, enhancing engagement.</li>\n",
    "    </ul>\n",
    "    <p style=\"font-size: 16px; color: #555; text-align: justify; line-height: 1.5; margin-top: 15px;\">\n",
    "        In conclusion, leveraging context caching improves both user experience and system efficiency, offering a scalable solution for personalized learning.\n",
    "    </p>\n",
    "</div>\n"
   ]
  },
  {
   "cell_type": "code",
   "execution_count": 12,
   "metadata": {},
   "outputs": [
    {
     "data": {
      "text/markdown": [
       "### Response from Gemini Chatbot:\n",
       "\n",
       "## Personalized Learning Path for Ravi Kumar (Class 7, Student ID 3)\n",
       "\n",
       "Ravi Kumar demonstrates a mixed performance profile, showcasing strengths in certain areas while needing focused attention in others.  This personalized learning path aims to leverage his strengths and provide support where needed, integrating academics, extracurricular activities, and cultural awareness for holistic development.\n",
       "\n",
       "**I. Academic Performance and Recommendations:**\n",
       "\n",
       "| Subject           | Performance  | Recommendations                                                                                    |\n",
       "|-------------------|--------------|------------------------------------------------------------------------------------------------|\n",
       "| Telugu           | 58          | Focus on vocabulary building through reading storybooks and participating in storytelling activities.  Practice writing simple sentences and paragraphs.  |\n",
       "| English           | 65          | Encourage conversational English by participating in group discussions and role-playing. Provide supplementary reading materials like comics and age-appropriate novels. |\n",
       "| Mathematics       | 68          | Build on existing strengths. Introduce challenging puzzles and logical reasoning problems. Explore real-world applications of mathematical concepts. |\n",
       "| EVS              | 60          |  Hands-on activities and projects related to local environment and current events.  Encourage observation and analysis skills through nature walks and field trips. |\n",
       "| Social Studies    | 60          | Use visual aids like maps and timelines to understand historical events. Encourage project-based learning focusing on local history and cultural heritage. |\n",
       "| Science           | 62          | Foster scientific curiosity through simple experiments and demonstrations.  Relate scientific concepts to everyday life experiences. |\n",
       "\n",
       "\n",
       "**II. Extracurricular Activities and Recommendations:**\n",
       "\n",
       "* **Current Involvement:** Ravi's attendance records (Attendance.csv) and activity lists (ExtraCurricularActivities.csv) show sporadic participation.  His kinesthetic learning style and active nature could be better channeled through structured extracurriculars.\n",
       "* **Recommendations:**\n",
       "    * **Music Club:**  Align with Ravi's interest in music. Encourage regular attendance and active participation.\n",
       "    * **Sports Club:**  Provide an outlet for his energy and develop teamwork and discipline. Explore sports like football which he enjoys (Student.csv). \n",
       "    * **English Club (if available):** Reinforce English speaking and communication skills in a fun, interactive environment.\n",
       "\n",
       "**III. Cultural Integration and Recommendations:**\n",
       "\n",
       "* **Current Exposure:** Limited information available in the provided datasets.  Exposure to local festivals and traditions is crucial in a low-literacy area.\n",
       "* **Recommendations:**\n",
       "    * **Festival Celebrations:** Active participation in school celebrations.  Assignments (e.g., essays, drawings) related to festivals like Ugadi, Diwali, and local village festivals.  \n",
       "    * **Community Engagement:**  Encourage interaction with local artisans and storytellers. Organize field trips to local historical and cultural sites.\n",
       "    * **Family Values:**  Assignments emphasizing the importance of family and community (Assignments.csv).  Encourage storytelling about family traditions and history.\n",
       "\n",
       "**IV.  Overall Development and Motivation:**\n",
       "\n",
       "* **Strengths:**  Good performance in Mathematics and English indicates a strong logical and analytical ability. His active nature and interest in music are positive traits that should be encouraged.\n",
       "* **Areas for Improvement:**  Consistency in attendance and extracurricular involvement.  Focused effort on vocabulary building, particularly in Telugu.  Increased exposure to local culture and history.\n",
       "* **Motivational Strategies:**\n",
       "    * **Positive Reinforcement:**  Acknowledge and praise Ravi's efforts and achievements, however small.  Celebrate his progress regularly.\n",
       "    * **Personalized Feedback:** Provide specific, actionable feedback on assignments.  Focus on strengths and provide constructive suggestions for improvement.\n",
       "    * **Mentorship:** Pair Ravi with a high-performing student or a teacher mentor for additional support and guidance.\n",
       "    * **Relatable Examples:**  Connect academic and extracurricular activities to his interests (music, sports) and daily life experiences to enhance engagement.\n",
       "\n",
       "**V.  Monitoring and Evaluation:**\n",
       "\n",
       "* Track Ravi's progress in academics, attendance, and extracurricular activities regularly.\n",
       "* Review and adjust the learning path as needed based on his performance and feedback.\n",
       "* Communicate regularly with his parents/guardians to share progress and discuss any concerns.\n",
       "\n",
       "By implementing this personalized learning path and providing consistent support, Ravi can achieve his full potential and develop into a well-rounded individual.\n"
      ],
      "text/plain": [
       "<IPython.core.display.Markdown object>"
      ]
     },
     "metadata": {},
     "output_type": "display_data"
    },
    {
     "data": {
      "text/markdown": [
       "### Usage Metadata:\n",
       "\n",
       "```\n",
       "prompt_token_count: 364501\n",
       "candidates_token_count: 884\n",
       "total_token_count: 365385\n",
       "\n",
       "```"
      ],
      "text/plain": [
       "<IPython.core.display.Markdown object>"
      ]
     },
     "metadata": {},
     "output_type": "display_data"
    },
    {
     "data": {
      "text/markdown": [
       "\n",
       "*Powered by AI for better education! 🌟📚*"
      ],
      "text/plain": [
       "<IPython.core.display.Markdown object>"
      ]
     },
     "metadata": {},
     "output_type": "display_data"
    }
   ],
   "source": [
    "# Example usage\n",
    "student_id = 3\n",
    "prompt = \"Create a personalized learning path for  student by analyzing their performance and recommending subject-wise, extracurricular, and cultural improvements.\"\n",
    "\n",
    "# First call (not cached)\n",
    "personalized_learning_path = get_personalized_learning_path(student_id, prompt)\n",
    "dis(personalized_learning_path)\n"
   ]
  },
  {
   "cell_type": "code",
   "execution_count": 14,
   "metadata": {},
   "outputs": [
    {
     "data": {
      "text/markdown": [
       "### Response from Gemini Chatbot:\n",
       "\n",
       "## Personalized Learning Path for Ravi Kumar (Class 7, Student ID 3)\n",
       "\n",
       "Ravi Kumar demonstrates a mixed performance profile, showcasing strengths in certain areas while needing focused attention in others.  This personalized learning path aims to leverage his strengths and provide support where needed, integrating academics, extracurricular activities, and cultural awareness for holistic development.\n",
       "\n",
       "**I. Academic Performance and Recommendations:**\n",
       "\n",
       "| Subject           | Performance  | Recommendations                                                                                    |\n",
       "|-------------------|--------------|------------------------------------------------------------------------------------------------|\n",
       "| Telugu           | 58          | Focus on vocabulary building through reading storybooks and participating in storytelling activities.  Practice writing simple sentences and paragraphs.  |\n",
       "| English           | 65          | Encourage conversational English by participating in group discussions and role-playing. Provide supplementary reading materials like comics and age-appropriate novels. |\n",
       "| Mathematics       | 68          | Build on existing strengths. Introduce challenging puzzles and logical reasoning problems. Explore real-world applications of mathematical concepts. |\n",
       "| EVS              | 60          |  Hands-on activities and projects related to local environment and current events.  Encourage observation and analysis skills through nature walks and field trips. |\n",
       "| Social Studies    | 60          | Use visual aids like maps and timelines to understand historical events. Encourage project-based learning focusing on local history and cultural heritage. |\n",
       "| Science           | 62          | Foster scientific curiosity through simple experiments and demonstrations.  Relate scientific concepts to everyday life experiences. |\n",
       "\n",
       "\n",
       "**II. Extracurricular Activities and Recommendations:**\n",
       "\n",
       "* **Current Involvement:** Ravi's attendance records (Attendance.csv) and activity lists (ExtraCurricularActivities.csv) show sporadic participation.  His kinesthetic learning style and active nature could be better channeled through structured extracurriculars.\n",
       "* **Recommendations:**\n",
       "    * **Music Club:**  Align with Ravi's interest in music. Encourage regular attendance and active participation.\n",
       "    * **Sports Club:**  Provide an outlet for his energy and develop teamwork and discipline. Explore sports like football which he enjoys (Student.csv). \n",
       "    * **English Club (if available):** Reinforce English speaking and communication skills in a fun, interactive environment.\n",
       "\n",
       "**III. Cultural Integration and Recommendations:**\n",
       "\n",
       "* **Current Exposure:** Limited information available in the provided datasets.  Exposure to local festivals and traditions is crucial in a low-literacy area.\n",
       "* **Recommendations:**\n",
       "    * **Festival Celebrations:** Active participation in school celebrations.  Assignments (e.g., essays, drawings) related to festivals like Ugadi, Diwali, and local village festivals.  \n",
       "    * **Community Engagement:**  Encourage interaction with local artisans and storytellers. Organize field trips to local historical and cultural sites.\n",
       "    * **Family Values:**  Assignments emphasizing the importance of family and community (Assignments.csv).  Encourage storytelling about family traditions and history.\n",
       "\n",
       "**IV.  Overall Development and Motivation:**\n",
       "\n",
       "* **Strengths:**  Good performance in Mathematics and English indicates a strong logical and analytical ability. His active nature and interest in music are positive traits that should be encouraged.\n",
       "* **Areas for Improvement:**  Consistency in attendance and extracurricular involvement.  Focused effort on vocabulary building, particularly in Telugu.  Increased exposure to local culture and history.\n",
       "* **Motivational Strategies:**\n",
       "    * **Positive Reinforcement:**  Acknowledge and praise Ravi's efforts and achievements, however small.  Celebrate his progress regularly.\n",
       "    * **Personalized Feedback:** Provide specific, actionable feedback on assignments.  Focus on strengths and provide constructive suggestions for improvement.\n",
       "    * **Mentorship:** Pair Ravi with a high-performing student or a teacher mentor for additional support and guidance.\n",
       "    * **Relatable Examples:**  Connect academic and extracurricular activities to his interests (music, sports) and daily life experiences to enhance engagement.\n",
       "\n",
       "**V.  Monitoring and Evaluation:**\n",
       "\n",
       "* Track Ravi's progress in academics, attendance, and extracurricular activities regularly.\n",
       "* Review and adjust the learning path as needed based on his performance and feedback.\n",
       "* Communicate regularly with his parents/guardians to share progress and discuss any concerns.\n",
       "\n",
       "By implementing this personalized learning path and providing consistent support, Ravi can achieve his full potential and develop into a well-rounded individual.\n"
      ],
      "text/plain": [
       "<IPython.core.display.Markdown object>"
      ]
     },
     "metadata": {},
     "output_type": "display_data"
    },
    {
     "data": {
      "text/markdown": [
       "### Usage Metadata:\n",
       "\n",
       "```\n",
       "prompt_token_count: 364501\n",
       "candidates_token_count: 884\n",
       "total_token_count: 365385\n",
       "\n",
       "```"
      ],
      "text/plain": [
       "<IPython.core.display.Markdown object>"
      ]
     },
     "metadata": {},
     "output_type": "display_data"
    },
    {
     "data": {
      "text/markdown": [
       "\n",
       "*Powered by AI for better education! 🌟📚*"
      ],
      "text/plain": [
       "<IPython.core.display.Markdown object>"
      ]
     },
     "metadata": {},
     "output_type": "display_data"
    }
   ],
   "source": [
    "# Second call (cached result) response time : 0s\n",
    "personalized_learning_path = get_personalized_learning_path(student_id, prompt)\n",
    "dis(personalized_learning_path)"
   ]
  },
  {
   "cell_type": "markdown",
   "metadata": {},
   "source": [
    "<div style=\"background-color: #34495E; padding: 20px; border-radius: 10px; margin: 20px 0; border: 2px solid #2C3E50; max-width: 90%; margin-left: auto; margin-right: auto;\">\n",
    "    <h3 style=\"color: #ECF0F1; text-align: center;\">🗓️ Dynamic Timetabling</h3>\n",
    "    <p style=\"color: #BDC3C7; font-size: 16px;\">AI ensures balanced schedules for students, allocating time for academics, extracurriculars, and cultural learning. Dynamic timetables adapt in real-time to changes such as exam schedules or extracurricular events, helping students stay on track.</p>\n",
    "</div>\n"
   ]
  },
  {
   "cell_type": "code",
   "execution_count": 24,
   "metadata": {},
   "outputs": [],
   "source": [
    "tcache = TTLCache(maxsize=50, ttl=3600)\n",
    "\n",
    "# Step 2: Wrap the chat.send_message() function with caching\n",
    "@cached(tcache)\n",
    "def get_personalized_learning_path(prompt):\n",
    "    \"\"\"\n",
    "    Generate a personalized learning path for a student using a prompt and caching the result.\n",
    "    \"\"\"\n",
    "    # Check if the result is already cached\n",
    "    if (student_id, prompt) in p_cache:\n",
    "        print(f\"Cache hit \")\n",
    "    else:\n",
    "        print(f\"Cache miss \")\n",
    "            \n",
    "    print(f\"Generating time tabel .......\")\n",
    "    # Simulate calling the chatbot with the provided prompt\n",
    "    learning_path = chat.send_message(prompt)\n",
    "    return learning_path\n",
    "\n",
    "time_tabel =\"\"\"Please create a weekly timetable for Class 5 that balances academic subjects with extracurricular activities and cultural integration. Ensure the following:\n",
    "\n",
    "1.\tCore Subjects Coverage:\n",
    "\n",
    "•\tAllocate focused time slots for high-priority subjects based on curriculum demands, test preparation, and syllabus completion.\n",
    "\n",
    "•\tSchedule more complex or concentration-heavy subjects in the morning when students are most alert.\n",
    "\n",
    "2.\tExtracurricular and Exposure Sessions:\n",
    "\n",
    "•\tInclude daily or weekly slots for extracurricular activities that encourage curiosity and practical learning, such as nature studies, local history discussions, and introductory technology sessions.\n",
    "\n",
    "•\tIntegrate cultural lessons when approaching local festivals or significant community events.\n",
    "\n",
    "3.\tTeacher Availability:\n",
    "\n",
    "•\tEnsure no scheduling conflicts by checking teacher availability per subject and limiting consecutive sessions for the same teacher to avoid burnout.\n",
    "\n",
    "4.\tBreaks and Reflections:\n",
    "\n",
    "•\tInclude mid-morning and post-lunch breaks to ensure student well-being and attention.\n",
    "\n",
    "•\tOn Fridays, dedicate the last session to a reflection period where students can share insights from the week’s lessons and activities.\n",
    "\n",
    "5.\tBalance of Academics and Development:\n",
    "\n",
    "•\tBlend academic subjects with exposure to real-world concepts, like local environment observations, introductions to new career fields, and cultural storytelling, aligned with each student’s age and understanding level.\"\"\""
   ]
  },
  {
   "cell_type": "code",
   "execution_count": 27,
   "metadata": {},
   "outputs": [
    {
     "name": "stdout",
     "output_type": "stream",
     "text": [
      "Cache miss \n",
      "Generating time tabel .......\n"
     ]
    },
    {
     "data": {
      "text/markdown": [
       "### Response from Gemini Chatbot:\n",
       "\n",
       "**Weekly Timetable for Class 5**\n",
       "\n",
       "**Note:** This timetable is a template and can be further personalized by the teacher based on specific student needs, teacher availability, and upcoming events from `CalendarEvents.csv`.  Presumed student interests and school resources (like computer labs) are factored in.  Teacher names are placeholders and should be replaced with actual teacher names from `teacher.csv`.\n",
       "\n",
       "\n",
       "\n",
       "| Time         | Monday                 | Tuesday                      | Wednesday                | Thursday                     | Friday                        |\n",
       "|--------------|--------------------------|-------------------------------|---------------------------|------------------------------|-------------------------------|\n",
       "| 8:30 - 9:15  | Mathematics (Lakshmi Devi) | Telugu (Ramu Reddy)         | Mathematics (Lakshmi Devi) | Telugu (Ramu Reddy)        | English (Ravi Kumar)          |\n",
       "| 9:15 - 10:00 | English (Ravi Kumar)       | Science (Priya Reddy)         | English (Ravi Kumar)      | EVS (Lakshmi Devi)            | Social Studies (Suresh Kumar) |\n",
       "| 10:00 - 10:15 | *Break*                  | *Break*                       | *Break*                   | *Break*                      | *Break*                       |\n",
       "| 10:15 - 11:00 | EVS (Lakshmi Devi)       | Social Studies (Suresh Kumar) | Science (Priya Reddy)      | Mathematics (Lakshmi Devi)  | Telugu (Ramu Reddy)         |\n",
       "| 11:00 - 11:45 | Social Studies (Suresh Kumar) |  Art / Craft (Local Artisan) | Library / Reading Time     | Computer Skills (School Staff)  | Science (Priya Reddy)      |\n",
       "| 11:45 - 12:30 | *Lunch*                 | *Lunch*                      | *Lunch*                  | *Lunch*                     | *Lunch*                      |\n",
       "| 12:30 - 1:15  | Telugu Reading and Writing Practice (Ramu Reddy) | Music (School Staff)        | Telugu Reading and Writing Practice (Ramu Reddy) | Physical Education           | Local History Discussion (Guest Speaker / Suresh Kumar) |\n",
       "| 1:15 - 2:00  | Nature Study / Gardening (Priya Reddy)        | Free Study / Remedial       | Environmental Awareness Activity (Guest Speaker / Priya Reddy) | Value Education Discussion (School Staff) | Reflection / Sharing Time      |\n",
       "\n",
       "\n",
       "**Explanation and Considerations:**\n",
       "\n",
       "* **Core Subjects Coverage:** Mathematics, English, Telugu, Science, EVS, and Social Studies are allocated significant time slots, particularly in the morning. More demanding subjects like Mathematics and Science are strategically scheduled for peak learning periods.\n",
       "* **Extracurricular and Exposure Sessions:**  Art/Craft with a local artisan integrates cultural learning directly.  Nature study, local history discussions, and computer skills development cater to varied interests and promote practical skills. Library/Reading time encourages independent learning and literacy development. These are distributed throughout the week.  Festivals or events from `CalendarEvents.csv` can be integrated into these slots or replace Free Study/Remedial sessions.\n",
       "* **Teacher Availability:**  The timetable attempts to distribute subjects among available teachers.  Consecutive sessions for the same teacher are minimized where possible to avoid burnout. The school should adjust this based on actual staffing. External resources like guest speakers and local artisans enrich the learning experience and reduce the burden on regular teachers.\n",
       "* **Breaks and Reflections:**  Short breaks are included to allow for rest and rejuvenation.  Friday's reflection session allows students to consolidate learning and develop communication skills.  \n",
       "* **Balance of Academics and Development:** Real-world integration is achieved through nature studies, computer classes (introducing technology), local history sessions, and cultural activities surrounding festivals.  The Reflection/Sharing Time also promotes expressing learnings in real-world terms.\n",
       "\n",
       "\n",
       "\n",
       "**Example Cultural Integration for Ugadi (from CalendarEvents.csv):**\n",
       "\n",
       "During the week of Ugadi, the Art/Craft session can focus on creating *panchangams* (traditional almanacs).  The Telugu class can incorporate storytelling related to Ugadi's significance.  The Nature Study session can focus on seasonal fruits and flowers relevant to the festival.\n",
       "\n",
       "**Further Personalization:**\n",
       "\n",
       "The teacher can further personalize this timetable by:\n",
       "\n",
       "* **Using StudentProgress.csv and student_scores.csv:** Identify students needing extra help in specific subjects and allocate time for remedial sessions or peer tutoring during Free Study/Remedial slots.\n",
       "* **Referencing SuggestedActivities.csv:** Incorporate suggested exposure activities like visits to local historical sites or interactions with community members into extracurricular slots.\n",
       "* **Leveraging StudentExposureHistory.csv:** Build on previous exposure experiences and introduce new concepts to broaden student horizons.\n",
       "\n",
       "This adaptable timetable provides a balanced structure that can be tailored to maximize learning and development for each Class 5 student.\n"
      ],
      "text/plain": [
       "<IPython.core.display.Markdown object>"
      ]
     },
     "metadata": {},
     "output_type": "display_data"
    },
    {
     "data": {
      "text/markdown": [
       "### Usage Metadata:\n",
       "\n",
       "```\n",
       "prompt_token_count: 366541\n",
       "candidates_token_count: 1045\n",
       "total_token_count: 367586\n",
       "\n",
       "```"
      ],
      "text/plain": [
       "<IPython.core.display.Markdown object>"
      ]
     },
     "metadata": {},
     "output_type": "display_data"
    },
    {
     "data": {
      "text/markdown": [
       "\n",
       "*Powered by AI for better education! 🌟📚*"
      ],
      "text/plain": [
       "<IPython.core.display.Markdown object>"
      ]
     },
     "metadata": {},
     "output_type": "display_data"
    }
   ],
   "source": [
    "time_tabel_response = get_personalized_learning_path(time_tabel)\n",
    "dis(time_tabel_response)"
   ]
  },
  {
   "cell_type": "markdown",
   "metadata": {},
   "source": [
    "<div style=\"background-color: #34495E; padding: 20px; border-radius: 10px; margin: 20px 0; border: 2px solid #2C3E50; max-width: 80%; margin-left: auto; margin-right: auto;\">\n",
    "    <h3 style=\"color: #ECF0F1; text-align: center;\">🌎 Cultural and Regional Awareness</h3>\n",
    "    <p style=\"color: #BDC3C7; font-size: 16px;\">Students gain a deeper understanding of their heritage through AI-curated lessons on epics like Mahabharata or Quran, moral values, and regional history. Multilingual support ensures inclusivity for diverse learners.</p>\n",
    "</div>\n"
   ]
  },
  {
   "cell_type": "code",
   "execution_count": 32,
   "metadata": {},
   "outputs": [],
   "source": [
    "holiday_prior= \"Create a three-day action plan for celebrating Sankranthi in Class 5, focusing on the cultural significance of the festival. Include a detailed timetable with fun activities for each day that emphasize the importance of Sankranthi, its agricultural roots, and community involvement. Incorporate educational lessons, resource suggestions, and a culminating activity for the last day, along with ideas for student reflection and feedback.”\""
   ]
  },
  {
   "cell_type": "code",
   "execution_count": 33,
   "metadata": {},
   "outputs": [
    {
     "name": "stdout",
     "output_type": "stream",
     "text": [
      "Cache miss \n",
      "Generating time tabel .......\n"
     ]
    },
    {
     "data": {
      "text/markdown": [
       "### Response from Gemini Chatbot:\n",
       "\n",
       "## Sankranthi Celebration Action Plan for Class 5 (Three Days)\n",
       "\n",
       "This action plan outlines a three-day celebration of Sankranthi in Class 5, emphasizing its cultural significance, agricultural roots, and community involvement.  It leverages elements from the provided datasets (`CalendarEvents.csv`, etc.) and incorporates educational lessons, creative activities, and reflection opportunities.\n",
       "\n",
       "**Overall Theme:**  Harvest, Gratitude, and Community\n",
       "\n",
       "**I. Day 1:  Exploring the Significance of Sankranthi**\n",
       "\n",
       "* **Focus:** Understanding the history, traditions, and agricultural importance of Sankranthi.\n",
       "\n",
       "**Timetable:**\n",
       "\n",
       "| Time       | Activity                                                                  | Resources                                       |\n",
       "|------------|---------------------------------------------------------------------------|-------------------------------------------------|\n",
       "| 9:00 - 9:30 | Introduction to Sankranthi: Discussion about its significance as a harvest festival. | Pictures/videos of Sankranthi celebrations.       |\n",
       "| 9:30 - 10:15 | Storytelling: Sharing stories about Sankranthi traditions and mythology.  | Storybooks, local elders (if possible).             |\n",
       "| 10:15 - 10:30 | *Break*                                                                   |                                                 |\n",
       "| 10:30 - 11:15 |  Art and Craft: Creating Sankranthi-themed artwork (e.g., *rangolis*, paper kites).  | Colored powders, chart paper, crayons, craft supplies. |\n",
       "| 11:15 - 12:00 |  Music and Dance: Learning Sankranthi folk songs and dances.           | Audio recordings, local artists (if possible).      |\n",
       "\n",
       "\n",
       "**II. Day 2:  Sankranthi's Agricultural Roots**\n",
       "\n",
       "* **Focus:**  Exploring the connection between Sankranthi and agriculture, appreciating farmers and the harvest season.\n",
       "\n",
       "**Timetable:**\n",
       "\n",
       "| Time       | Activity                                                                    | Resources                                                  |\n",
       "|------------|------------------------------------------------------------------------------|------------------------------------------------------------|\n",
       "| 9:00 - 9:45 |  The Farmer's Role: Discussion about the importance of farmers and agriculture. | Pictures/videos of farming activities.                     |\n",
       "| 9:45 - 10:30 |  Seed to Harvest:  Interactive session explaining the life cycle of crops like rice. | Charts showing crop life cycles, real seeds/plants (if possible). |\n",
       "| 10:30 - 10:45 | *Break*                                                                     |                                                            |\n",
       "| 10:45 - 11:30 |  Preparing Traditional Food:  Hands-on activity preparing simple Sankranthi snacks (e.g., *ariselu*). | Ingredients for *ariselu* or other local snacks, parent volunteers. |\n",
       "| 11:30 - 12:00 | Gratitude for the Harvest: Writing thank you notes to farmers.                | Paper, pens.                                               |\n",
       "\n",
       "\n",
       "\n",
       "**III. Day 3:  Community and Reflection**\n",
       "\n",
       "* **Focus:**  Celebrating community spirit, sharing learnings, and reflecting on the festival's significance.\n",
       "\n",
       "**Timetable:**\n",
       "\n",
       "| Time       | Activity                                                                  | Resources                                                                       |\n",
       "|------------|---------------------------------------------------------------------------|-------------------------------------------------------------------------------|\n",
       "| 9:00 - 9:45 | Community Sharing: Students bring and share traditional Sankranthi food.    | Plates, napkins.                                                              |\n",
       "| 9:45 - 10:30 |  Kite Flying Competition (optional):  Organize a kite flying activity.        | Kites, open space (playground).                                               |\n",
       "| 10:30 - 10:45 | *Break*                                                                   |                                                                               |\n",
       "| 10:45 - 11:30 |  Reflection and Feedback:  Discussion about what students learned during the celebrations.  |  Worksheets with reflective prompts (e.g., \"What did you enjoy most?\", \"What new things did you learn about Sankranthi?\").   |\n",
       "| 11:30 - 12:00 | Culminating Activity: Create a class Sankranthi scrapbook or wall display showcasing their learnings and artwork.  | Chart paper, photos, student artwork, glue, markers.                           |\n",
       "\n",
       "\n",
       "\n",
       "**Reflection and Feedback:**\n",
       "\n",
       "* Encourage students to share their experiences and learnings through written reflections, drawings, or class discussions.\n",
       "* Collect student feedback on the activities to improve future celebrations.\n",
       "* Use prompts like:\n",
       "    * What did you learn about the history and traditions of Sankranthi?\n",
       "    * How is Sankranthi celebrated in your family?\n",
       "    * Why is it important to appreciate farmers and the harvest season?\n",
       "    * How does Sankranthi bring the community together?\n",
       "\n",
       "\n",
       "**Teacher Notes:**\n",
       "\n",
       "* This action plan can be adapted based on available time and resources.\n",
       "* Encourage student participation and creativity throughout the celebrations.\n",
       "* Invite local community members to share their experiences and knowledge about Sankranthi.\n",
       "* Relate the activities to the core curriculum wherever possible (e.g., language arts, social studies, science).\n",
       "* Capture the celebrations through photos and videos to create a lasting memory for the students.\n",
       "\n",
       "\n",
       "This detailed plan provides a framework for a vibrant and educational Sankranthi celebration in Class 5, fostering cultural awareness, appreciation for agriculture, and a sense of community belonging among students.  Remember to adapt as needed to best fit your specific classroom context.\n"
      ],
      "text/plain": [
       "<IPython.core.display.Markdown object>"
      ]
     },
     "metadata": {},
     "output_type": "display_data"
    },
    {
     "data": {
      "text/markdown": [
       "### Usage Metadata:\n",
       "\n",
       "```\n",
       "prompt_token_count: 367667\n",
       "candidates_token_count: 1182\n",
       "total_token_count: 368849\n",
       "\n",
       "```"
      ],
      "text/plain": [
       "<IPython.core.display.Markdown object>"
      ]
     },
     "metadata": {},
     "output_type": "display_data"
    },
    {
     "data": {
      "text/markdown": [
       "\n",
       "*Powered by AI for better education! 🌟📚*"
      ],
      "text/plain": [
       "<IPython.core.display.Markdown object>"
      ]
     },
     "metadata": {},
     "output_type": "display_data"
    }
   ],
   "source": [
    "religion_awarnes_response = get_personalized_learning_path(holiday_prior)\n",
    "dis(religion_awarnes_response)"
   ]
  },
  {
   "cell_type": "markdown",
   "metadata": {},
   "source": [
    "<div style=\"background-color: #34495E; padding: 20px; border-radius: 10px; margin: 20px 0; border: 2px solid #2C3E50; max-width: 80%; margin-left: auto; margin-right: auto;\">\n",
    "    <h3 style=\"color: #ECF0F1; text-align: center;\">🔔 Real-Time Feedback</h3>\n",
    "    <p style=\"color: #BDC3C7; font-size: 16px;\">AI sends instant notifications about student progress, such as academic performance or behavioral changes. This enables teachers and parents to take timely action, ensuring continuous improvement.</p>\n",
    "</div>\n"
   ]
  },
  {
   "cell_type": "code",
   "execution_count": 35,
   "metadata": {},
   "outputs": [
    {
     "name": "stdout",
     "output_type": "stream",
     "text": [
      "Cache miss \n",
      "Generating time tabel .......\n"
     ]
    },
    {
     "data": {
      "text/markdown": [
       "### Response from Gemini Chatbot:\n",
       "\n",
       "## Real-Time Student Performance and Behavior Update (Class and Individual)\n",
       "\n",
       "This update provides a snapshot of recent academic performance and behavioral progress for students, based on the limited data available in the provided datasets. As such, it provides a generalized class overview and some individual examples demonstrating how data from `StudentProgress.csv`, `student_scores.csv`, and `attendance_records.csv` *could* be used for more complete real-time analysis in a real-world implementation.  This information should be combined with direct teacher observation and parent communication for a more comprehensive picture.\n",
       "\n",
       "\n",
       "**Class Overview (Generalized for all Classes 1-7):**\n",
       "\n",
       "* **Academic Performance:** Based on `student_scores.csv`, overall class performance appears to vary across subjects.  Further detailed analysis is needed to determine class-wide strengths and weaknesses.  \n",
       "* **Behavioral Progress:**  Attendance records (`attendance_records.csv`) may reveal attendance issues for some students which could correlate with engagement and behavioral challenges.  Information in `StudentProgress.csv` might indicate areas where students are thriving and require more challenge or where they are struggling and need additional support. Direct teacher observation is crucial for assessing classroom behavior, participation, and social interactions.\n",
       "\n",
       "**Individual Student Examples and Actionable Recommendations:**\n",
       "\n",
       "**1. Ravi Kumar (Student ID 3, Presumed Class 3 - data for Class 3 not provided):**\n",
       "\n",
       "* **Key Highlights:** Shows potential in Mathematics, enjoys creative activities (presumed, based on older Ravi Kumar).  Attendance could be inconsistent (extrapolating).  Active in class, sometimes disruptive (extrapolating).\n",
       "* **Areas for Improvement:**  Focus and attention span, consistent participation in class activities.  Potential need for vocabulary building in Telugu (extrapolating).\n",
       "* **Recommendations:**\n",
       "    * **Teachers:** Provide engaging, hands-on activities in all subjects.  Use positive reinforcement to manage classroom behavior.  Incorporate movement and breaks into lessons.  Offer personalized support in Telugu vocabulary development.\n",
       "    * **Parents:**  Encourage a structured daily routine at home, including dedicated time for homework and reading.  Engage Ravi in conversations about school and his learning.\n",
       "\n",
       "**2. Priya Reddy (Student ID 4 & 10, Presumed Class 5 - data for other classes with Priya Reddy not provided):**\n",
       "\n",
       "* **Key Highlights:** Consistent performance across subjects, performs well in Social Studies (presumed, based on older Priya Reddy). Quiet and attentive in class (extrapolated).\n",
       "* **Areas for Improvement:**  May be hesitant to participate in group activities.  Could benefit from opportunities to develop leadership skills.\n",
       "* **Recommendations:**\n",
       "    * **Teachers:**  Encourage Priya to take on leadership roles in group projects. Provide opportunities for her to share her knowledge and help other students.\n",
       "    * **Parents:**  Engage Priya in activities that encourage social interaction and teamwork outside of school.  Provide opportunities for her to express herself and develop confidence.\n",
       "\n",
       "**3. Suresh Kumar (Student ID 5 & 11, Presumed Class 6 - data for other classes with Suresh Kumar not provided):**\n",
       "\n",
       "* **Key Highlights:** Excels in Mathematics, enjoys football (extrapolated). Talkative in class, sometimes distracts other students (extrapolated).\n",
       "* **Areas for Improvement:**  Focus on classroom discussions, respect for other students' learning space.\n",
       "* **Recommendations:**\n",
       "    * **Teachers:**  Channel Suresh's energy through challenging academic tasks and leadership roles.  Provide clear expectations for classroom behavior and use positive reinforcement to encourage positive interactions.\n",
       "    * **Parents:**  Discuss appropriate classroom behavior with Suresh. Encourage him to use his communication skills positively to contribute to class discussions and group activities.\n",
       "\n",
       "\n",
       "**Further Real-Time Analysis (With Enhanced Data):**\n",
       "\n",
       "With more detailed and recent data, including regular assessment scores, behavioral observation logs, and parent/teacher communication records, a more comprehensive real-time analysis would be possible.  This would allow for:\n",
       "\n",
       "* **Identifying learning gaps and providing targeted interventions.**\n",
       "* **Tracking individual student progress toward learning goals.**\n",
       "* **Providing personalized feedback to students and parents.**\n",
       "* **Adapting teaching strategies based on student needs.**\n",
       "* **Identifying students at risk of falling behind and providing early support.**\n",
       "\n",
       "\n",
       "This framework, using the existing data as a starting point, offers a glimpse into the potential of a real-time student performance monitoring system. By incorporating additional data sources and regular communication, teachers and parents can collaborate effectively to support each student's academic and behavioral growth.\n"
      ],
      "text/plain": [
       "<IPython.core.display.Markdown object>"
      ]
     },
     "metadata": {},
     "output_type": "display_data"
    },
    {
     "data": {
      "text/markdown": [
       "### Usage Metadata:\n",
       "\n",
       "```\n",
       "prompt_token_count: 368883\n",
       "candidates_token_count: 945\n",
       "total_token_count: 369828\n",
       "\n",
       "```"
      ],
      "text/plain": [
       "<IPython.core.display.Markdown object>"
      ]
     },
     "metadata": {},
     "output_type": "display_data"
    },
    {
     "data": {
      "text/markdown": [
       "\n",
       "*Powered by AI for better education! 🌟📚*"
      ],
      "text/plain": [
       "<IPython.core.display.Markdown object>"
      ]
     },
     "metadata": {},
     "output_type": "display_data"
    }
   ],
   "source": [
    "real_time_feed = \"Provide a real-time update on every student recent academic performance and behavioral progress. Include key highlights, areas needing improvement, and actionable recommendations for teachers and parents.\"\n",
    "real_time_feed_response= get_personalized_learning_path(real_time_feed)\n",
    "dis(real_time_feed_response)"
   ]
  },
  {
   "cell_type": "markdown",
   "metadata": {},
   "source": [
    "<div style=\"background-color: #34495E; padding: 20px; border-radius: 10px; margin: 20px 0; border: 2px solid #2C3E50; max-width: 80%; margin-left: auto; margin-right: auto;\">\n",
    "    <h3 style=\"color: #ECF0F1; text-align: center;\">🧑‍🏫 AI - Teacher’s Help</h3>\n",
    "    <p style=\"color: #BDC3C7; font-size: 16px;\">Gemini leverages its multilingual capabilities and deep context understanding to generate detailed explanations about lessons using the provided textbook.</p>\n",
    "</div>\n"
   ]
  },
  {
   "cell_type": "code",
   "execution_count": 37,
   "metadata": {},
   "outputs": [
    {
     "name": "stdout",
     "output_type": "stream",
     "text": [
      "Cache miss \n",
      "Generating time tabel .......\n"
     ]
    },
    {
     "data": {
      "text/markdown": [
       "### Response from Gemini Chatbot:\n",
       "\n",
       "ఏ దేశమేగినా ఎందుకాలిడినా.. ఈ గేయం దేశభక్తిని,  జాతి గౌరవాన్ని  నొక్కి చెప్పే ఒక అద్భుతమైన రచన.  రాయప్రోలు సుబ్బారావు గారు ఈ గేయాన్ని రచించారు. ఐదవ తరగతి తెలుగు పాఠ్యపుస్తకంలో ఇది మొదటి పాఠం.  ప్రతి చరణంలోనూ  దేశం పట్ల, మాతృభూమి పట్ల మనకు ఉండాల్సిన బాధ్యతను, ప్రేమను  కవి  అద్భుతంగా వర్ణించారు. \n",
       "\n",
       "**గేయ వివరణ:**\n",
       "\n",
       "మొదటి చరణం:  \"ఏ దేశమేగినా ఎందుకాలిడినా ఏ పీఠమెక్కినా ఎవ్వరేమనినా పొగడరా నీ తల్లిభూమి భారతిని నిలుపరా నీ జాతి నిండు గౌరవము\"\n",
       "\n",
       "*  ఎక్కడికి వెళ్ళినా, ఏ దేశంలో ఉన్నా, ఎంత ఉన్నత స్థానానికి చేరుకున్నా, ఎవరు ఏమన్నా కూడా మన తల్లి భూమి అయిన భారతదేశ గొప్పతనాన్ని  గురించి చెప్పాలి.  మన జాతి గౌరవాన్ని నిలబెట్టాలి అని కవి  చెబుతున్నారు.\n",
       "\n",
       "రెండవ చరణం: \"ఏ పూర్వపుణ్యమో ఏ యోగబలమో జనియించినాడవీ స్వర్గ ఖండమున ఏ మంచి పూవులన్ ప్రేమించినావో నిను మోచె ఈ తల్లి కనక గర్భమున\"\n",
       "\n",
       "*  ఏ పూర్వ జన్మ పుణ్యమో,  ఏ యోగ బలమో కానీ  మనం ఈ స్వర్గతుల్యమైన భారతదేశంలో జన్మించాం.  ఎన్నో మంచి పూలను  ఆరాధించి  పుణ్యం సంపాదించుకున్నాం కాబట్టే,  ఈ కనక భూమి  మనల్ని మోస్తుంది  అని కవి భావిస్తున్నారు.\n",
       "\n",
       "మూడవ చరణం: \"లేదురా ఇటువంటి భూదేవి యెందు లేరురా మనవంటి పౌరు లింకెందు సూర్యుని వెలుతురుల్ సోకు నందాక ఓడల జెండాలు ఆడు నందాక\"\n",
       "\n",
       "*  మన భారతమాత లాంటి భూదేవి మరెక్కడా లేదు. మనలాంటి  ధీరోదాత్తులైన పౌరులు మరే దేశంలోను లేరు.  సూర్యుడు ఉన్నంత వరకు, సముద్రంలో  ఓడలు తిరుగుతున్నంత వరకు,  మన దేశం,  మన దేశ ఖ్యాతి అలాగే నిలిచి ఉంటుంది అని కవి గర్వంగా చెబుతున్నారు.\n",
       "\n",
       "నాల్గవ చరణం: \"అందాక గల ఈ యనంత భూతలిని మన భూమి వంటి చల్లని తల్లి లేదు పాడరా నీ తెన్గు బాల గీతములు పాడరా నీ వీర భావ భారతము\"\n",
       "\n",
       "*  అనంతమైన ఈ భూమి మీద మన  భూమి లాంటి చల్లని తల్లి మరొకరు లేరు.  తెలుగులో  బాలగీతాలు, వీరగాధలు పాడుతూ మన  మాతృభాషను, మన  సంస్కృతిని  కాపాడుకోవాలి అని కవి  ప్రబోధిస్తున్నారు.\n",
       "\n",
       "\n",
       "**గేయ  ప్రాముఖ్యత:**\n",
       "\n",
       "* దేశభక్తిని పెంపొందిస్తుంది:  ఈ గేయం  చిన్నారులలో దేశభక్తి భావాన్ని  వెల్లివిరిస్తుంది.\n",
       "* జాతి గౌరవాన్ని  నొక్కి చెబుతుంది:  మన దేశం, మన సంస్కృతి గొప్పదనం  తెలియజేస్తుంది.  \n",
       "* మాతృభాష ప్రాముఖ్యతను తెలియజేస్తుంది:  తెలుగు భాషను, తెలుగు సంస్కృతిని  కాపాడుకోవాలనే  భావాన్ని కలిగిస్తుంది.\n",
       "*  సానుకూల దృక్పథాన్ని పెంపొందిస్తుంది:   దేశం పట్ల సానుకూల దృక్పథాన్ని  కలిగిస్తుంది.\n",
       "*  కర్తవ్యബాధ్యతను  నెరవేర్చేలా ప్రోత్సహిస్తుంది:  ఒక పౌరుడిగా  మన బాధ్యతను గుర్తుచేస్తుంది.\n",
       "\n",
       "**ముగింపు:**\n",
       "\n",
       "\"ఏ దేశమేగినా..\" గేయం  ఒక  అపురూపమైన రచన. ఇది కేవలం  పిల్లలకే కాదు, పెద్దలందరికీ  స్ఫూర్తినిచ్చే  గేయం.  మాతృభూమి పట్ల ప్రేమను, గౌరవాన్ని పెంపొందించుకోవడానికి  ఇది ఎంతగానో  ఉపయోగపడుతుంది.\n"
      ],
      "text/plain": [
       "<IPython.core.display.Markdown object>"
      ]
     },
     "metadata": {},
     "output_type": "display_data"
    },
    {
     "data": {
      "text/markdown": [
       "### Usage Metadata:\n",
       "\n",
       "```\n",
       "prompt_token_count: 369869\n",
       "candidates_token_count: 1393\n",
       "total_token_count: 371262\n",
       "\n",
       "```"
      ],
      "text/plain": [
       "<IPython.core.display.Markdown object>"
      ]
     },
     "metadata": {},
     "output_type": "display_data"
    },
    {
     "data": {
      "text/markdown": [
       "\n",
       "*Powered by AI for better education! 🌟📚*"
      ],
      "text/plain": [
       "<IPython.core.display.Markdown object>"
      ]
     },
     "metadata": {},
     "output_type": "display_data"
    }
   ],
   "source": [
    "ques = \"can you gave detailed explanation for the  entire poem ye dhesham yegina a unit in telugu wich emphasize the meaning and importance of the poem i want the detailed explanation in telugu .\"\n",
    "lesson_explanation_telugu = get_personalized_learning_path(ques)\n",
    "dis(lesson_explanation_telugu)"
   ]
  },
  {
   "cell_type": "code",
   "execution_count": 38,
   "metadata": {},
   "outputs": [
    {
     "data": {
      "text/markdown": [
       "### Response from Gemini Chatbot:\n",
       "\n",
       "Let's break down the first lesson, \"Let's Recall,\" focusing on the number system.  This explanation will include pronunciation guides and meanings in English, catering to your needs as a math teacher working with English medium students in Andhra Pradesh.\n",
       "\n",
       "**1. Number Names and Place Value (సంఖ్యా నామాలు మరియు స్థాన విలువ):**\n",
       "\n",
       "* **Focus:**  Reinforce understanding of number names (up to ten crores/hundred millions) and their place values in both Indian and International number systems.\n",
       "* **Explanation:**\n",
       "    * **Indian System (భారతీయ సంఖ్యా విధానం):**  Ones, Tens, Hundreds, Thousands, Ten Thousands, Lakhs, Ten Lakhs, Crores, Ten Crores. (వన్స్, టెన్స్, హండ్రెడ్స్, థౌజండ్స్, టెన్ థౌజండ్స్, లాక్స్, టెన్ లాక్స్, కోట్స్, టెన్ కోట్స్).  Emphasize the grouping of digits (periods) separated by commas.\n",
       "    * **International System (అంతర్జాతీయ సంఖ్యా విధానం):** Ones, Tens, Hundreds, Thousands, Ten Thousands, Hundred Thousands, Millions, Ten Millions, Hundred Millions. (వన్స్, టెన్స్, హండ్రెడ్స్, థౌజండ్స్, టెన్ థౌజండ్స్, హండ్రెడ్ థౌజండ్స్, మిలియన్స్, టెన్ మిలియన్స్, హండ్రెడ్ మిలియన్స్).  Again, highlight the comma separation.\n",
       "* **Pronunciation and Meaning:**  Practice pronunciation of each place value term. Explain that the place value determines the value of a digit within a number.  For example, the digit '5' in the \"Ten Thousands\" place represents 50,000.\n",
       "\n",
       "**2. Expanded Form (విస్తరణ రూపం):**\n",
       "\n",
       "* **Focus:**  Representing numbers in expanded form using place values.\n",
       "* **Explanation:**  Show how each digit in a number can be written as the product of the digit and its place value.  For example, 2,34,567 = (2 x 1,00,000) + (3 x 10,000) + (4 x 1,000) + (5 x 100) + (6 x 10) + (7 x 1).\n",
       "* **Pronunciation and Meaning:**  Practice reading the expanded form aloud.  Explain that it demonstrates how the total value of a number is the sum of the values of its digits at their respective places.\n",
       "\n",
       "**3. Rounding Off (రౌండింగ్ ఆఫ్):**\n",
       "\n",
       "* **Focus:** Rounding off numbers to the nearest tens, hundreds, and thousands.\n",
       "* **Explanation:** Review the rules for rounding off: \n",
       "    * If the digit to the right of the rounding place is 5 or more, round up.\n",
       "    * If the digit is less than 5, round down.\n",
       "* **Pronunciation and Meaning:** Practice rounding off different numbers. Emphasize that rounding off gives an approximate value, which is often useful in estimations.\n",
       "\n",
       "**4. Operations with Large Numbers (పెద్ద సంఖ్యలతో కూడిన కార్యకలాపాలు):**\n",
       "\n",
       "* **Focus:** Review addition, subtraction, multiplication, and division of large numbers. The provided data from the PDF suggests a focus on methods like the standard algorithms.\n",
       "* **Explanation:**\n",
       "    * **Addition and Subtraction (కూడిక మరియు తీసివేత):** Emphasize aligning numbers by place value. Review carrying over (in addition) and borrowing (in subtraction).\n",
       "    * **Multiplication (గుణకారం):** Explain the process of multiplication with examples using both single-digit and two-digit multipliers.\n",
       "    * **Division (భాగహారం):** Demonstrate long division with clear steps.  Introduce terms like dividend (భాగహారం), divisor (భాజకం), quotient (భాగఫలం), and remainder (శేషము).\n",
       "* **Pronunciation and Meaning:** Practice the pronunciation of each operation term. Work through examples of each operation, explaining the steps in English.\n",
       "\n",
       "\n",
       "**5. Word Problems (పద సమస్యలు):**\n",
       "\n",
       "* **Focus:**  Applying number system concepts to real-world situations.\n",
       "* **Explanation:** The PDF provides basic word problem examples.  Supplement with additional examples relatable to the students' context (e.g., using data from the other CSV files related to school activities, festivals, etc.).\n",
       "* **Pronunciation and Meaning:**  Help students understand the language used in word problems.  Emphasize keywords that indicate which operation to use (e.g., \"total,\" \"difference,\" \"times,\" \"equally\").\n",
       "\n",
       "\n",
       "**Teaching Strategies for Low-Literacy Contexts:**\n",
       "\n",
       "* **Visual Aids:** Use charts, diagrams, and manipulatives to illustrate concepts visually.\n",
       "* **Real-World Examples:** Connect number system concepts to everyday situations familiar to the students.\n",
       "* **Group Activities:** Encourage peer learning and collaboration.\n",
       "* **Repetition and Practice:** Provide ample opportunities for students to practice and reinforce their understanding.\n",
       "* **Simplified Language:** Use clear and concise language, avoiding complex vocabulary.\n",
       "* **Multi-sensory Activities:** Incorporate activities that engage multiple senses (e.g., songs, games, hands-on tasks).\n",
       "\n",
       "\n",
       "\n",
       "By focusing on clear explanations, practical examples, and engaging activities, you can effectively teach the number system concepts from the first lesson while fostering a positive and supportive learning environment for your Class 5 students. Remember to adapt your teaching methods based on your students' specific needs and the resources available in your school.\n"
      ],
      "text/plain": [
       "<IPython.core.display.Markdown object>"
      ]
     },
     "metadata": {},
     "output_type": "display_data"
    },
    {
     "data": {
      "text/markdown": [
       "### Usage Metadata:\n",
       "\n",
       "```\n",
       "prompt_token_count: 371308\n",
       "candidates_token_count: 1268\n",
       "total_token_count: 372576\n",
       "\n",
       "```"
      ],
      "text/plain": [
       "<IPython.core.display.Markdown object>"
      ]
     },
     "metadata": {},
     "output_type": "display_data"
    },
    {
     "data": {
      "text/markdown": [
       "\n",
       "*Powered by AI for better education! 🌟📚*"
      ],
      "text/plain": [
       "<IPython.core.display.Markdown object>"
      ]
     },
     "metadata": {},
     "output_type": "display_data"
    }
   ],
   "source": [
    "maths_help_prompt = \"i am a maths teacher i want to explain the first lesson from the pdf which is `number system` now provide me the detailed explanation and  how to pronounce each and every imp topic  with their meaning in english \"\n",
    "maths_help_prompt_response = chat.send_message(maths_help_prompt)\n",
    "dis(maths_help_prompt_response)"
   ]
  },
  {
   "cell_type": "markdown",
   "metadata": {},
   "source": [
    "<div style=\"background-color: #34495E; padding: 20px; border-radius: 10px; margin: 20px 0; border: 2px solid #2C3E50; max-width: 80%; margin-left: auto; margin-right: auto;\">\n",
    "    <h3 style=\"color: #ECF0F1; text-align: center;\">📊 Student Reports</h3>\n",
    "    <p style=\"color: #BDC3C7; font-size: 16px;\">AI generates personalized progress reports with clear visuals, highlighting strengths, weaknesses, and recommendations. These reports empower teachers, parents, and students to track progress effectively.</p>\n",
    "</div>\n"
   ]
  },
  {
   "cell_type": "code",
   "execution_count": 42,
   "metadata": {},
   "outputs": [],
   "source": [
    "students_report = \"Generate a personalized progress report for 5th grade student for Priya reddy, including strengths, weaknesses, recommendations, and visual highlights to track progress effectively\"\n"
   ]
  },
  {
   "cell_type": "code",
   "execution_count": 43,
   "metadata": {},
   "outputs": [
    {
     "name": "stdout",
     "output_type": "stream",
     "text": [
      "Cache miss \n",
      "Generating time tabel .......\n"
     ]
    },
    {
     "data": {
      "text/markdown": [
       "### Response from Gemini Chatbot:\n",
       "\n",
       "## Personalized Progress Report - Priya Reddy, Class 5\n",
       "\n",
       "\n",
       "**Student ID:** 10 (and/or 4, if referring to a different Priya Reddy in another class)  **Reporting Period:** [Date - Date]\n",
       "\n",
       "\n",
       "**I. Academic Performance:**\n",
       "\n",
       "Priya Reddy demonstrates a consistent academic performance, indicating a strong foundation and good study habits. The following table highlights her subject-wise strengths, weaknesses, and recommendations, leveraging information from the provided data where applicable and making generalized assumptions for Class 5 where needed (since detailed, current Class 5 data isn't provided).\n",
       "\n",
       "| Subject           | Grade (Placeholder) | Strengths                                          | Weaknesses                                      | Recommendations                                                                                             |\n",
       "|-------------------|-------------------|------------------------------------------------------|--------------------------------------------------|-------------------------------------------------------------------------------------------------------------|\n",
       "| Telugu           | B                  | Good understanding of grammar rules.                | Needs to improve spoken Telugu fluency.            | Participate in storytelling and conversation practice. Read Telugu storybooks aloud.                       |\n",
       "| English           | B+                 | Excellent vocabulary and reading comprehension.   |  Could improve creative writing skills.              | Encourage participation in creative writing activities, like poetry or short story writing.                   |\n",
       "| Mathematics       | A-                 | Strong grasp of concepts, accurate calculations.       | Could benefit from challenging problem-solving.      | Introduce complex word problems and mathematical puzzles. Explore advanced concepts for enrichment.        |\n",
       "| EVS              | B                  | Shows interest in environmental topics.              | Needs to develop deeper understanding of concepts. | Engage in hands-on projects related to local environmental issues. Conduct research and present findings.      |\n",
       "| Social Studies    | A                  | Enjoys learning about history and cultures.             | Could improve presentation skills.                | Assign projects that involve presentations and public speaking, focusing on historical events or cultural topics. |\n",
       "| Science           | B+                 | Good understanding of basic scientific principles.   |  Needs to be more proactive in experiments.        | Encourage active participation in science experiments. Assign individual research projects on scientific topics. |\n",
       "\n",
       "\n",
       "\n",
       "**II. Extracurricular Activities:**\n",
       "\n",
       "* **Participation:** Priya shows a preference for quieter activities and likely participates in clubs like Art Club or Quiz Club (extrapolating from generalized profile).\n",
       "* **Strengths:** Demonstrates creativity and focus in chosen activities (extrapolated).\n",
       "* **Recommendations:** While focusing on her strengths, encourage Priya to explore some activities that involve teamwork and physical activity, like sports or dance (suggested based on generalized profile; check `SuggestedActivities.csv` and student interests for actual recommendations).  This will help her develop social skills and physical coordination.\n",
       "\n",
       "\n",
       "**III.  Behavioral Observations:**\n",
       "\n",
       "* **Attendance:**  Excellent attendance record (presumed).\n",
       "* **Classroom Behavior:** Quiet, attentive, and respectful in class (extrapolated).\n",
       "* **Social Skills:**  May be shy or hesitant in group settings (extrapolated).\n",
       "* **Recommendations:** Encourage Priya to participate more actively in class discussions and group projects.  Assign group tasks that require collaboration and communication. Create a supportive classroom environment that encourages participation without pressure.\n",
       "\n",
       "\n",
       "**IV. Cultural Integration:**\n",
       "\n",
       "* **Participation:**  Likely participates in cultural events but may be hesitant to take on prominent roles (extrapolated).\n",
       "* **Recommendations:** Encourage Priya to participate actively in cultural events and share her knowledge about traditions (potentially related to her good Social Studies performance).  Assign roles that require her to interact with others and share her insights.\n",
       "\n",
       "\n",
       "**V. Overall Progress and Next Steps:**\n",
       "\n",
       "Priya has made commendable progress in her studies, particularly in Social Studies and English.  Continued focus on developing her spoken Telugu, creative writing, and active class participation is recommended.  Encouraging participation in team-based extracurriculars and assigning leadership roles will boost her confidence and social skills.\n",
       "\n",
       "**VI. Visual Progress Tracker (Example):**\n",
       "\n",
       "**(Color-coded system)**\n",
       "\n",
       "* **Academics:** Green for A, Yellow for B, Orange for C (adjust as needed based on your grading system).\n",
       "    *  Telugu: Yellow\n",
       "    *  English: Green\n",
       "    *  Mathematics: Light Green\n",
       "    *  EVS: Yellow\n",
       "    *  Social Studies: Green\n",
       "    *  Science: Light Green\n",
       "* **Extracurricular Activities:**  Number of stars (1-5) indicating participation level.  \n",
       "* **Behavior:** Smiley face scale for classroom behavior and social interaction.\n",
       "\n",
       "\n",
       "**VII. Parent/Teacher Comments:**\n",
       "\n",
       "* **Teacher Comments:** [Space for teacher to add specific comments -  e.g., \"Priya is a bright and capable student.  I am encouraging her to participate more actively in class and take on leadership roles.\"]\n",
       "* **Parent/Guardian Comments:**  [Space for parents/guardians to share their observations and feedback].\n",
       "\n",
       "\n",
       "**VIII.  Student Self-Reflection:**\n",
       "\n",
       "[Section for Priya to reflect - e.g., \"I am happy with my grades in Social Studies and English.  I want to improve my spoken Telugu and try new activities with my classmates.\"]\n",
       "\n",
       "\n",
       "This personalized progress report provides a tailored assessment of Priya Reddy's overall development, taking her quiet personality into consideration.  Open communication and individualized support will further enhance her learning journey.\n",
       "\n",
       "\n"
      ],
      "text/plain": [
       "<IPython.core.display.Markdown object>"
      ]
     },
     "metadata": {},
     "output_type": "display_data"
    },
    {
     "data": {
      "text/markdown": [
       "### Usage Metadata:\n",
       "\n",
       "```\n",
       "prompt_token_count: 373786\n",
       "candidates_token_count: 1088\n",
       "total_token_count: 374874\n",
       "\n",
       "```"
      ],
      "text/plain": [
       "<IPython.core.display.Markdown object>"
      ]
     },
     "metadata": {},
     "output_type": "display_data"
    },
    {
     "data": {
      "text/markdown": [
       "\n",
       "*Powered by AI for better education! 🌟📚*"
      ],
      "text/plain": [
       "<IPython.core.display.Markdown object>"
      ]
     },
     "metadata": {},
     "output_type": "display_data"
    }
   ],
   "source": [
    "\n",
    "student_report_response = get_personalized_learning_path(students_report)\n",
    "dis(student_report_response)"
   ]
  },
  {
   "cell_type": "markdown",
   "metadata": {},
   "source": [
    "<div style=\"background-color: #2C3E50; padding: 30px; border-radius: 15px; margin: 40px 0; border: 2px solid #1ABC9C; max-width: 80%; margin-left: auto; margin-right: auto;\">\n",
    "    <h2 style=\"color: #ECF0F1; text-align: center;\">🚀 Gemini in Education: Unlocking Endless Possibilities</h2>\n",
    "    <p style=\"color: #BDC3C7; font-size: 18px; text-align: center; line-height: 1.6;\">Gemini’s powerful AI-driven features bring endless possibilities to education. From personalized learning paths to real-time feedback, Gemini helps bridge the gaps in the traditional classroom, enabling both teachers and students to thrive.</p>\n",
    "    <p style=\"color: #BDC3C7; font-size: 18px; text-align: center; line-height: 1.6;\">By utilizing Gemini, we are not just transforming education, but opening doors to a future where every student receives the personalized attention they deserve. Let’s explore some more exciting features that can further revolutionize the educational experience.</p>\n",
    "    <div style=\"margin-top: 30px;\">\n",
    "        <h3 style=\"color: #ECF0F1; text-align: center;\">Explore More Features:</h3>\n",
    "        <div style=\"display: flex; flex-wrap: wrap; justify-content: center; gap: 20px;\">\n",
    "            <div style=\"background-color: #16A085; color: #ffffff; padding: 20px; border-radius: 10px; text-align: center; width: 250px; box-shadow: 0 4px 6px rgba(0, 0, 0, 0.1);\">\n",
    "                <p>📊 Classroom Analytics</p>\n",
    "            </div>\n",
    "            <div style=\"background-color: #1ABC9C; color: #ffffff; padding: 20px; border-radius: 10px; text-align: center; width: 250px; box-shadow: 0 4px 6px rgba(0, 0, 0, 0.1);\">\n",
    "                <p>🌍 Fine-Tuned AI Models</p>\n",
    "            </div>\n",
    "            <div style=\"background-color: #FFEB3B; color: #2C3E50; padding: 20px; border-radius: 10px; text-align: center; width: 250px; box-shadow: 0 4px 6px rgba(0, 0, 0, 0.1);\">\n",
    "                <p>👨‍👩‍👧‍👦 Parental Involvement</p>\n",
    "            </div>\n",
    "            <div style=\"background-color: #F39C12; color: #ffffff; padding: 20px; border-radius: 10px; text-align: center; width: 250px; box-shadow: 0 4px 6px rgba(0, 0, 0, 0.1);\">\n",
    "                <p>📚 Teacher Support</p>\n",
    "            </div>\n",
    "            <div style=\"background-color: #9B59B6; color: #ffffff; padding: 20px; border-radius: 10px; text-align: center; width: 250px; box-shadow: 0 4px 6px rgba(0, 0, 0, 0.1);\">\n",
    "                <p>👩‍🏫 One-on-One Mentorship</p>\n",
    "            </div>\n",
    "            <div style=\"background-color: #FF5733; color: #ffffff; padding: 20px; border-radius: 10px; text-align: center; width: 250px; box-shadow: 0 4px 6px rgba(0, 0, 0, 0.1);\">\n",
    "                <p>🎮 Gamification</p>\n",
    "            </div>\n",
    "            <div style=\"background-color: #F1C40F; color: #2C3E50; padding: 20px; border-radius: 10px; text-align: center; width: 250px; box-shadow: 0 4px 6px rgba(0, 0, 0, 0.1);\">\n",
    "                <p>📅 Long-Context Analysis</p>\n",
    "            </div>\n",
    "            <div style=\"background-color: #E74C3C; color: #ffffff; padding: 20px; border-radius: 10px; text-align: center; width: 250px; box-shadow: 0 4px 6px rgba(0, 0, 0, 0.1);\">\n",
    "                <p>⚡ Context-Caching</p>\n",
    "            </div>\n",
    "            <div style=\"background-color: #2ECC71; color: #ffffff; padding: 20px; border-radius: 10px; text-align: center; width: 250px; box-shadow: 0 4px 6px rgba(0, 0, 0, 0.1);\">\n",
    "                <p>🌎 Cultural and Regional Awareness</p>\n",
    "            </div>\n",
    "            <div style=\"background-color: #8E44AD; color: #ffffff; padding: 20px; border-radius: 10px; text-align: center; width: 250px; box-shadow: 0 4px 6px rgba(0, 0, 0, 0.1);\">\n",
    "                <p>📝 Automated Grading</p>\n",
    "            </div>\n",
    "            <div style=\"background-color: #E67E22; color: #ffffff; padding: 20px; border-radius: 10px; text-align: center; width: 250px; box-shadow: 0 4px 6px rgba(0, 0, 0, 0.1);\">\n",
    "                <p>📊 Reporting and Analytics</p>\n",
    "            </div>\n",
    "        </div>\n",
    "    </div>\n",
    "</div>\n"
   ]
  },
  {
   "cell_type": "markdown",
   "metadata": {},
   "source": [
    "<div style=\"background-color: #1E1E1E; padding: 30px; border-radius: 15px; margin: 40px 0; border: 2px solid #00B8D9; margin-left: auto; margin-right: 30px; width: 100%; max-width: 95%;\">\n",
    "<h2 style=\"color: #00bfae;\"> Long Context Windows with Gemini 1.5 - 2M</h2>\n",
    "\n",
    "<h3 style=\"color: #f56b2a;\">How Long Context Windows Enabled Our Use Case</h3>\n",
    "<p style=\"color: #d1d5db;\">In our project, we processed over <strong style=\"color: #ff79c6;\">3 million tokens</strong> for a relatively small use case, thanks to the power of Gemini 1.5’s <strong style=\"color: #ff79c6;\">2 million token context window</strong>. This is a significant step forward in enabling models to handle large-scale, complex data without losing critical context. The extended context window allowed us to:</p>\n",
    "<ul style=\"color: #d1d5db;\">\n",
    "  <li>Track <strong style=\"color: #ff79c6;\">evolution in performance</strong> over time.</li>\n",
    "  <li>Identify <strong style=\"color: #ff79c6;\">behavioral trends</strong> across subjects and activities.</li>\n",
    "  <li>Provide <strong style=\"color: #ff79c6;\">tailored content</strong> based on individual growth.</li>\n",
    "</ul>\n",
    "\n",
    "<p style=\"color: #d1d5db;\">The ability to process such a large number of tokens was essential in managing personalized data like feedback, performance, and behavioral patterns that evolved over time. Without the long context windows, this would have been impossible.</p>\n",
    "\n",
    "<h3 style=\"color: #f56b2a;\">Scalability with Larger Datasets</h3>\n",
    "<p style=\"color: #d1d5db;\">As the dataset grows, Gemini 1.5's <strong style=\"color: #ff79c6;\">2 million token window</strong> adapts to accommodate larger student profiles. This enables:</p>\n",
    "<ul style=\"color: #d1d5db;\">\n",
    "  <li>Efficient processing of <strong style=\"color: #ff79c6;\">larger datasets</strong> as more data is added.</li>\n",
    "  <li>Retention of all relevant historical data, even as new information is introduced, ensuring <strong style=\"color: #ff79c6;\">continuous personalized mentorship</strong>.</li>\n",
    "</ul>\n",
    "\n",
    "<h3 style=\"color: #f56b2a;\">Advanced Techniques: Context Caching</h3>\n",
    "<p style=\"color: #d1d5db;\">By leveraging <strong style=\"color: #ff79c6;\">context caching</strong>, we reduce the computational burden while maintaining high performance. This enables:</p>\n",
    "<ul style=\"color: #d1d5db;\">\n",
    "  <li>Efficient reuse of frequently accessed data, keeping the system <strong style=\"color: #ff79c6;\">responsive</strong> and <strong style=\"color: #ff79c6;\">scalable</strong> as the dataset grows.</li>\n",
    "  <li>Reduced computational overhead, allowing the system to handle complex, long-term data without a performance hit.</li>\n",
    "</ul>\n",
    "\n",
    "<h3 style=\"color: #f56b2a;\">Real-World Applicability</h3>\n",
    "<p style=\"color: #d1d5db;\">In real-world scenarios, such as large-scale student mentorship programs, Gemini’s 2 million token context window allows for seamless handling of extensive longitudinal data. The ability to manage 3 million tokens and retain key insights makes it an ideal solution for personalized mentorship at scale. With <strong style=\"color: #ff79c6;\">advanced techniques</strong> like context caching, this becomes even more efficient, ensuring that even as the data grows, we can deliver timely and relevant personalized feedback.</p>\n",
    "\n",
    "</div>"
   ]
  },
  {
   "cell_type": "markdown",
   "metadata": {},
   "source": []
  }
 ],
 "metadata": {
  "kernelspec": {
   "display_name": "Python 3",
   "language": "python",
   "name": "python3"
  },
  "language_info": {
   "codemirror_mode": {
    "name": "ipython",
    "version": 3
   },
   "file_extension": ".py",
   "mimetype": "text/x-python",
   "name": "python",
   "nbconvert_exporter": "python",
   "pygments_lexer": "ipython3",
   "version": "3.12.1"
  }
 },
 "nbformat": 4,
 "nbformat_minor": 2
}
